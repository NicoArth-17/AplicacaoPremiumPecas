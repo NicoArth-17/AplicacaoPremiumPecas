{
 "cells": [
  {
   "cell_type": "code",
   "execution_count": 7,
   "metadata": {},
   "outputs": [
    {
     "name": "stdout",
     "output_type": "stream",
     "text": [
      "['28.04.B.01', '28.04.B.02', '28.04.B.03', '28.04.B.03', '28.04.B.04', '28.04.B.05', '28.04.B.06', '28.04.C.01', '28.04.C.02', '28.04.C.03', '28.04.C.04', '28.04.C.05', '28.04.C.06', '28.04.D.01', '28.04.D.02', '28.04.D.02', '28.04.D.03', '28.04.D.04', '28.04.D.05', '28.04.D.05', '28.04.D.06', '28.04.E.01', '28.04.E.02', '28.04.E.03', '28.04.E.04', '28.04.E.05', '28.04.E.06', '28.04.F.01', '28.04.F.02', '28.04.F.03', '28.04.F.04', '28.04.F.05', '28.04.F.06']\n",
      "33\n",
      "['OKC0311PIE', 'OKC0701PI', '081071', 'OKC0412PIE', 'PSC03013M', 'PSC08000M', 'OKC0412PID', 'OKC0318PIE', 'OKC0318PID', 'OKC0102PI', 'OK03099', '22003-FIRIST', 'OK03376', 'CWBI160160', 'OK03261', 'OK03402', 'OK0001', 'OK03343', 'OK03059', 'OK03148', 'OKC0302PI', 'OKC0305PI', 'OKC0203PI', 'OK03037', 'TD122', 'PS1015', 'OKC0304PI', 'OKC0105PI', 'OK03259', 'OK03256', '3OK03325', 'OKC0322PID', 'OKC0322PIE']\n",
      "33\n"
     ]
    }
   ],
   "source": [
    "# PASSO 1 => Criar df com a base de dados e extrair os códigos de produto e local em uma lista única para cada tipo de código\n",
    "\n",
    "import tabula\n",
    "\n",
    "inventario_df = tabula.read_pdf('Inventário de Estoque - 09.PDF', pages='all')\n",
    "\n",
    "lista_codProduto = []\n",
    "lista_codLocal = []\n",
    "\n",
    "for tabelas in inventario_df:\n",
    "    for codProduto in tabelas['Cód.Int. Ref.Fabr.']:\n",
    "        separar_codP = codProduto.split()\n",
    "        lista_codProduto.append(separar_codP[1])\n",
    "    for codLocal in tabelas['UN Local']:\n",
    "        codLocal = codLocal.replace('09','04')\n",
    "        codLocal = codLocal.replace('PC ','')\n",
    "        codLocal = codLocal.replace('JG ','')\n",
    "        lista_codLocal.append(codLocal)\n",
    "\n",
    "print(lista_codLocal)\n",
    "print(len(lista_codLocal))\n",
    "print(lista_codProduto)\n",
    "print(len(lista_codProduto))\n"
   ]
  },
  {
   "cell_type": "code",
   "execution_count": 3,
   "metadata": {},
   "outputs": [
    {
     "name": "stdout",
     "output_type": "stream",
     "text": [
      "28.04.B.03 [4, 5]\n",
      "28.04.D.02 [16, 17]\n",
      "28.04.D.05 [20, 21]\n"
     ]
    }
   ],
   "source": [
    "# itens repetidos nas listas\n",
    "\n",
    "from collections import defaultdict\n",
    "\n",
    "keys = defaultdict(list)\n",
    "\n",
    "# Percorre todos os elementos da lista:\n",
    "for key, value in enumerate(lista_codLocal):\n",
    "\n",
    "    # Adiciona o índice do valor na lista de índices:\n",
    "    keys[value].append(key)\n",
    "\n",
    "# Exibe o resultado:\n",
    "for value in keys:\n",
    "    if len(keys[value]) > 1:\n",
    "        print(value, keys[value])"
   ]
  },
  {
   "cell_type": "code",
   "execution_count": 4,
   "metadata": {},
   "outputs": [
    {
     "name": "stdout",
     "output_type": "stream",
     "text": [
      "081071 OKC0412PIE\n",
      "OK03261 OK03402\n",
      "OK03059 OK03148\n"
     ]
    }
   ],
   "source": [
    "print(lista_codProduto[4], lista_codProduto[5])\n",
    "print(lista_codProduto[16], lista_codProduto[17])\n",
    "print(lista_codProduto[20], lista_codProduto[21])"
   ]
  },
  {
   "cell_type": "code",
   "execution_count": 8,
   "metadata": {},
   "outputs": [],
   "source": [
    "# PASSO 3 => Automatizar a pesquisa dos códigos no Symplex / Automatizar a alterção dos códigos de local\n",
    "\n",
    "#     IDEIA DE PROCESSO\n",
    "import pyautogui as py\n",
    "import time\n",
    "\n",
    "py.FAILSAFE = True\n",
    "# clicar no Symplex na barra de tarefa\n",
    "time.sleep(2)\n",
    "py.click(x=425, y=748)\n",
    "# clicar em alterar cadastro\n",
    "time.sleep(2)\n",
    "py.click(x=621, y=156)\n",
    "\n",
    "lista = lista_codProduto\n",
    "lista2 = lista_codLocal\n",
    "\n",
    "# clicar em editar\n",
    "#     *começar loop* obs: colocar tempo de execuçao\n",
    "for i, cod in enumerate(lista):\n",
    "    py.write(cod)\n",
    "    py.press(\"enter\")\n",
    "    time.sleep(2)\n",
    "    py.click(x=880, y=434, clicks=2)\n",
    "    py.write(lista2[i])\n",
    "    time.sleep(2)\n",
    "\n",
    "    py.click(x=952, y=667)\n",
    "    time.sleep(2)\n",
    "\n",
    "#     clicar na busca\n",
    "#     escrever codigo produto\n",
    "#     pressionar enter\n",
    "#     selecionar codigo local atual\n",
    "#     escrever codigo local novo\n",
    "#     tratar janela de alerta com enter\n",
    "#     clicar em salvar\n",
    "#     *fim do loop*"
   ]
  },
  {
   "cell_type": "code",
   "execution_count": 12,
   "metadata": {},
   "outputs": [
    {
     "name": "stdout",
     "output_type": "stream",
     "text": [
      "Point(x=952, y=667)\n"
     ]
    }
   ],
   "source": [
    "import pyautogui as py\n",
    "import time\n",
    "\n",
    "time.sleep(5)\n",
    "print(py.position())"
   ]
  },
  {
   "cell_type": "code",
   "execution_count": 21,
   "metadata": {},
   "outputs": [
    {
     "name": "stdout",
     "output_type": "stream",
     "text": [
      "6\n",
      "22\n",
      "28.03.B.05\n",
      "OK0002CP\n",
      "OK0002\n"
     ]
    }
   ],
   "source": [
    "import time\n",
    "import pyautogui as py\n",
    "# time.sleep(5)\n",
    "# print(py.position())\n",
    "\n",
    "\n",
    "for i, codg in enumerate(lista_codProduto):\n",
    "    if 'OK0002' in codg:\n",
    "        print(i)\n",
    "\n",
    "print(lista_codLocal[6])\n",
    "print(lista_codProduto[6])\n",
    "print(lista_codProduto[22])\n"
   ]
  }
 ],
 "metadata": {
  "kernelspec": {
   "display_name": "Python 3",
   "language": "python",
   "name": "python3"
  },
  "language_info": {
   "codemirror_mode": {
    "name": "ipython",
    "version": 3
   },
   "file_extension": ".py",
   "mimetype": "text/x-python",
   "name": "python",
   "nbconvert_exporter": "python",
   "pygments_lexer": "ipython3",
   "version": "3.11.1"
  },
  "orig_nbformat": 4,
  "vscode": {
   "interpreter": {
    "hash": "a70f64394a7e46cb0808266477ea262abb1d3d0c771e54d2edf917a6acfd2f5a"
   }
  }
 },
 "nbformat": 4,
 "nbformat_minor": 2
}
