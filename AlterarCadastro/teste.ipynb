{
 "cells": [
  {
   "cell_type": "code",
   "execution_count": 1,
   "metadata": {},
   "outputs": [
    {
     "name": "stdout",
     "output_type": "stream",
     "text": [
      "<class 'pandas.core.frame.DataFrame'>\n",
      "RangeIndex: 4 entries, 0 to 3\n",
      "Data columns (total 2 columns):\n",
      " #   Column       Non-Null Count  Dtype \n",
      "---  ------       --------------  ----- \n",
      " 0   DESCDESCPRO  4 non-null      object\n",
      " 1   CODPROFABR   4 non-null      object\n",
      "dtypes: object(2)\n",
      "memory usage: 192.0+ bytes\n"
     ]
    },
    {
     "data": {
      "text/html": [
       "<div>\n",
       "<style scoped>\n",
       "    .dataframe tbody tr th:only-of-type {\n",
       "        vertical-align: middle;\n",
       "    }\n",
       "\n",
       "    .dataframe tbody tr th {\n",
       "        vertical-align: top;\n",
       "    }\n",
       "\n",
       "    .dataframe thead th {\n",
       "        text-align: right;\n",
       "    }\n",
       "</style>\n",
       "<table border=\"1\" class=\"dataframe\">\n",
       "  <thead>\n",
       "    <tr style=\"text-align: right;\">\n",
       "      <th></th>\n",
       "      <th>DESCDESCPRO</th>\n",
       "      <th>CODPROFABR</th>\n",
       "    </tr>\n",
       "  </thead>\n",
       "  <tbody>\n",
       "    <tr>\n",
       "      <th>0</th>\n",
       "      <td>BIELETA DO ESTABILIZADOR TRASEIRO</td>\n",
       "      <td>BTC10204</td>\n",
       "    </tr>\n",
       "    <tr>\n",
       "      <th>1</th>\n",
       "      <td>BIELETA DO ESTABILIZADOR TRASEIRO</td>\n",
       "      <td>BTC10203</td>\n",
       "    </tr>\n",
       "    <tr>\n",
       "      <th>2</th>\n",
       "      <td>BIELETA DO ESTABILIZADOR TRASEIRO</td>\n",
       "      <td>BTC10201</td>\n",
       "    </tr>\n",
       "    <tr>\n",
       "      <th>3</th>\n",
       "      <td>BIELETA DO ESTABILIZADOR TRASEIRO</td>\n",
       "      <td>BTC10202</td>\n",
       "    </tr>\n",
       "  </tbody>\n",
       "</table>\n",
       "</div>"
      ],
      "text/plain": [
       "                         DESCDESCPRO CODPROFABR\n",
       "0  BIELETA DO ESTABILIZADOR TRASEIRO   BTC10204\n",
       "1  BIELETA DO ESTABILIZADOR TRASEIRO   BTC10203\n",
       "2  BIELETA DO ESTABILIZADOR TRASEIRO   BTC10201\n",
       "3  BIELETA DO ESTABILIZADOR TRASEIRO   BTC10202"
      ]
     },
     "metadata": {},
     "output_type": "display_data"
    }
   ],
   "source": [
    "import pandas as pd\n",
    "\n",
    "tabela = pd.read_excel('bieletas.xlsx')\n",
    "\n",
    "# tabela.loc[linhas,colunas]\n",
    "tabela = tabela.loc[:3,['DESCDESCPRO', 'CODPROFABR']]\n",
    "\n",
    "tabela.info()\n",
    "display(tabela)\n",
    "\n"
   ]
  },
  {
   "cell_type": "code",
   "execution_count": 2,
   "metadata": {},
   "outputs": [
    {
     "name": "stdout",
     "output_type": "stream",
     "text": [
      "['BTC10204', 'BTC10203', 'BTC10201', 'BTC10202']\n"
     ]
    }
   ],
   "source": [
    "lista_cod = []\n",
    "\n",
    "for cod in tabela['CODPROFABR']:\n",
    "    lista_cod.append(cod)\n",
    "\n",
    "print(lista_cod)\n",
    "\n"
   ]
  },
  {
   "cell_type": "code",
   "execution_count": 13,
   "metadata": {},
   "outputs": [],
   "source": [
    "from selenium import webdriver\n",
    "from selenium.webdriver.chrome.service import Service\n",
    "from webdriver_manager.chrome import ChromeDriverManager\n",
    "from selenium.webdriver.common.by import By\n",
    "from selenium.webdriver.common.keys import Keys\n",
    "\n",
    "servico = Service(ChromeDriverManager().install())\n",
    "nav = webdriver.Chrome(service=servico)"
   ]
  },
  {
   "cell_type": "code",
   "execution_count": 14,
   "metadata": {},
   "outputs": [],
   "source": [
    "nav.get('https://catalogo.redeancora.com.br/catalogo-pecas/v2')\n"
   ]
  },
  {
   "cell_type": "code",
   "execution_count": 15,
   "metadata": {},
   "outputs": [],
   "source": [
    "from selenium.webdriver.common.by import By\n",
    "nav.find_element(By.ID, 'email').send_keys('nicolarthur17@hotmail.com')\n",
    "nav.find_element(By.ID, 'password').send_keys('nicolarthur17')\n",
    "from selenium.webdriver.common.keys import Keys\n",
    "nav.find_element(By.XPATH, '//*[@id=\"formlogin\"]/fieldset/div[3]/button').click()\n"
   ]
  },
  {
   "cell_type": "code",
   "execution_count": 113,
   "metadata": {},
   "outputs": [],
   "source": [
    "import time\n",
    "import pyautogui as py\n",
    "nav.find_element(By.XPATH, '//*[@id=\"mat-input-46\"]').send_keys('BTC10204')\n",
    "nav.find_element(By.XPATH, '//*[@id=\"mat-input-46\"]').send_keys(Keys.ENTER)\n",
    "nav.find_element(By.XPATH, '//*[@id=\"exibicao-cards\"]/backoffice-visualizacao-cards-v2/div/div/div[1]/backoffice-card-catalogo/div/div[3]/div/div[2]/button').click()\n",
    "time.sleep(5)\n",
    "webdriver.ActionChains(nav).send_keys(Keys.ESCAPE).perform()\n",
    "nav.find_element(By.XPATH, '//*[@id=\"coluna-principal\"]/div/div[1]/backoffice-super-busca-v2/div/div[3]/div/div[3]/button').click()\n",
    "\n",
    "nav.find_element(By.XPATH, '//*[@id=\"mat-input-46\"]').send_keys('BTC10203')\n",
    "nav.find_element(By.XPATH, '//*[@id=\"mat-input-46\"]').send_keys(Keys.ENTER)\n",
    "nav.find_element(By.XPATH, '//*[@id=\"exibicao-cards\"]/backoffice-visualizacao-cards-v2/div/div/div[1]/backoffice-card-catalogo/div/div[3]/div/div[2]/button').click()\n",
    "time.sleep(5)\n",
    "webdriver.ActionChains(nav).send_keys(Keys.ESCAPE).perform()\n",
    "nav.find_element(By.XPATH, '//*[@id=\"coluna-principal\"]/div/div[1]/backoffice-super-busca-v2/div/div[3]/div/div[3]/button').click()\n",
    "\n",
    "nav.find_element(By.XPATH, '//*[@id=\"mat-input-46\"]').send_keys('BTC10201')\n",
    "nav.find_element(By.XPATH, '//*[@id=\"mat-input-46\"]').send_keys(Keys.ENTER)\n",
    "nav.find_element(By.XPATH, '//*[@id=\"exibicao-cards\"]/backoffice-visualizacao-cards-v2/div/div/div[1]/backoffice-card-catalogo/div/div[3]/div/div[2]/button').click()\n",
    "time.sleep(5)\n",
    "webdriver.ActionChains(nav).send_keys(Keys.ESCAPE).perform()\n",
    "nav.find_element(By.XPATH, '//*[@id=\"coluna-principal\"]/div/div[1]/backoffice-super-busca-v2/div/div[3]/div/div[3]/button').click()\n"
   ]
  },
  {
   "cell_type": "code",
   "execution_count": 28,
   "metadata": {},
   "outputs": [
    {
     "ename": "ElementClickInterceptedException",
     "evalue": "Message: element click intercepted: Element <button _ngcontent-css-c17=\"\" class=\"botao-preenchimento botao-filtro mat-flat-button mat-button-base mat-primary\" color=\"primary\" mat-flat-button=\"\">...</button> is not clickable at point (214, 131). Other element would receive the click: <div _ngcontent-css-c44=\"\" class=\"container-visualizar\" fxlayoutalign=\"center center\" style=\"place-content: center; align-items: center; flex-direction: row; box-sizing: border-box; display: flex;\">...</div>\n  (Session info: chrome=110.0.5481.178)\nStacktrace:\nBacktrace:\n\t(No symbol) [0x00E437D3]\n\t(No symbol) [0x00DD8B81]\n\t(No symbol) [0x00CDB36D]\n\t(No symbol) [0x00D14E3B]\n\t(No symbol) [0x00D126DB]\n\t(No symbol) [0x00D0FD0B]\n\t(No symbol) [0x00D0E4D8]\n\t(No symbol) [0x00D03253]\n\t(No symbol) [0x00D2B41C]\n\t(No symbol) [0x00D02B96]\n\t(No symbol) [0x00D2B774]\n\t(No symbol) [0x00D41215]\n\t(No symbol) [0x00D2B216]\n\t(No symbol) [0x00D00D97]\n\t(No symbol) [0x00D0253D]\n\tGetHandleVerifier [0x010BABF2+2510930]\n\tGetHandleVerifier [0x010E8EC1+2700065]\n\tGetHandleVerifier [0x010EC86C+2714828]\n\tGetHandleVerifier [0x00EF3480+645344]\n\t(No symbol) [0x00DE0FD2]\n\t(No symbol) [0x00DE6C68]\n\t(No symbol) [0x00DE6D4B]\n\t(No symbol) [0x00DF0D6B]\n\tBaseThreadInitThunk [0x76987D69+25]\n\tRtlInitializeExceptionChain [0x7714BB9B+107]\n\tRtlClearBits [0x7714BB1F+191]\n",
     "output_type": "error",
     "traceback": [
      "\u001b[1;31m---------------------------------------------------------------------------\u001b[0m",
      "\u001b[1;31mElementClickInterceptedException\u001b[0m          Traceback (most recent call last)",
      "Cell \u001b[1;32mIn[28], line 12\u001b[0m\n\u001b[0;32m      9\u001b[0m time\u001b[39m.\u001b[39msleep(\u001b[39m3\u001b[39m)\n\u001b[0;32m     11\u001b[0m buscar \u001b[39m=\u001b[39m nav\u001b[39m.\u001b[39mfind_element(By\u001b[39m.\u001b[39mXPATH, \u001b[39m'\u001b[39m\u001b[39m//*[@id=\u001b[39m\u001b[39m\"\u001b[39m\u001b[39mcoluna-principal\u001b[39m\u001b[39m\"\u001b[39m\u001b[39m]/div/div[1]/backoffice-super-busca-v2/div/div[3]/div/div[2]/button\u001b[39m\u001b[39m'\u001b[39m)\n\u001b[1;32m---> 12\u001b[0m buscar\u001b[39m.\u001b[39;49mclick()\n\u001b[0;32m     14\u001b[0m time\u001b[39m.\u001b[39msleep(\u001b[39m3\u001b[39m)\n\u001b[0;32m     16\u001b[0m vizualisar \u001b[39m=\u001b[39m nav\u001b[39m.\u001b[39mfind_element(By\u001b[39m.\u001b[39mXPATH, \u001b[39m'\u001b[39m\u001b[39m//*[@id=\u001b[39m\u001b[39m\"\u001b[39m\u001b[39mexibicao-cards\u001b[39m\u001b[39m\"\u001b[39m\u001b[39m]/backoffice-visualizacao-cards-v2/div/div/div[1]/backoffice-card-catalogo/div/div[2]/button\u001b[39m\u001b[39m'\u001b[39m)\n",
      "File \u001b[1;32mc:\\Users\\mobishopgamer\\AppData\\Local\\Programs\\Python\\Python311\\Lib\\site-packages\\selenium\\webdriver\\remote\\webelement.py:93\u001b[0m, in \u001b[0;36mWebElement.click\u001b[1;34m(self)\u001b[0m\n\u001b[0;32m     91\u001b[0m \u001b[39mdef\u001b[39;00m \u001b[39mclick\u001b[39m(\u001b[39mself\u001b[39m) \u001b[39m-\u001b[39m\u001b[39m>\u001b[39m \u001b[39mNone\u001b[39;00m:\n\u001b[0;32m     92\u001b[0m \u001b[39m    \u001b[39m\u001b[39m\"\"\"Clicks the element.\"\"\"\u001b[39;00m\n\u001b[1;32m---> 93\u001b[0m     \u001b[39mself\u001b[39;49m\u001b[39m.\u001b[39;49m_execute(Command\u001b[39m.\u001b[39;49mCLICK_ELEMENT)\n",
      "File \u001b[1;32mc:\\Users\\mobishopgamer\\AppData\\Local\\Programs\\Python\\Python311\\Lib\\site-packages\\selenium\\webdriver\\remote\\webelement.py:403\u001b[0m, in \u001b[0;36mWebElement._execute\u001b[1;34m(self, command, params)\u001b[0m\n\u001b[0;32m    401\u001b[0m     params \u001b[39m=\u001b[39m {}\n\u001b[0;32m    402\u001b[0m params[\u001b[39m\"\u001b[39m\u001b[39mid\u001b[39m\u001b[39m\"\u001b[39m] \u001b[39m=\u001b[39m \u001b[39mself\u001b[39m\u001b[39m.\u001b[39m_id\n\u001b[1;32m--> 403\u001b[0m \u001b[39mreturn\u001b[39;00m \u001b[39mself\u001b[39;49m\u001b[39m.\u001b[39;49m_parent\u001b[39m.\u001b[39;49mexecute(command, params)\n",
      "File \u001b[1;32mc:\\Users\\mobishopgamer\\AppData\\Local\\Programs\\Python\\Python311\\Lib\\site-packages\\selenium\\webdriver\\remote\\webdriver.py:440\u001b[0m, in \u001b[0;36mWebDriver.execute\u001b[1;34m(self, driver_command, params)\u001b[0m\n\u001b[0;32m    438\u001b[0m response \u001b[39m=\u001b[39m \u001b[39mself\u001b[39m\u001b[39m.\u001b[39mcommand_executor\u001b[39m.\u001b[39mexecute(driver_command, params)\n\u001b[0;32m    439\u001b[0m \u001b[39mif\u001b[39;00m response:\n\u001b[1;32m--> 440\u001b[0m     \u001b[39mself\u001b[39;49m\u001b[39m.\u001b[39;49merror_handler\u001b[39m.\u001b[39;49mcheck_response(response)\n\u001b[0;32m    441\u001b[0m     response[\u001b[39m\"\u001b[39m\u001b[39mvalue\u001b[39m\u001b[39m\"\u001b[39m] \u001b[39m=\u001b[39m \u001b[39mself\u001b[39m\u001b[39m.\u001b[39m_unwrap_value(response\u001b[39m.\u001b[39mget(\u001b[39m\"\u001b[39m\u001b[39mvalue\u001b[39m\u001b[39m\"\u001b[39m, \u001b[39mNone\u001b[39;00m))\n\u001b[0;32m    442\u001b[0m     \u001b[39mreturn\u001b[39;00m response\n",
      "File \u001b[1;32mc:\\Users\\mobishopgamer\\AppData\\Local\\Programs\\Python\\Python311\\Lib\\site-packages\\selenium\\webdriver\\remote\\errorhandler.py:245\u001b[0m, in \u001b[0;36mErrorHandler.check_response\u001b[1;34m(self, response)\u001b[0m\n\u001b[0;32m    243\u001b[0m         alert_text \u001b[39m=\u001b[39m value[\u001b[39m\"\u001b[39m\u001b[39malert\u001b[39m\u001b[39m\"\u001b[39m]\u001b[39m.\u001b[39mget(\u001b[39m\"\u001b[39m\u001b[39mtext\u001b[39m\u001b[39m\"\u001b[39m)\n\u001b[0;32m    244\u001b[0m     \u001b[39mraise\u001b[39;00m exception_class(message, screen, stacktrace, alert_text)  \u001b[39m# type: ignore[call-arg]  # mypy is not smart enough here\u001b[39;00m\n\u001b[1;32m--> 245\u001b[0m \u001b[39mraise\u001b[39;00m exception_class(message, screen, stacktrace)\n",
      "\u001b[1;31mElementClickInterceptedException\u001b[0m: Message: element click intercepted: Element <button _ngcontent-css-c17=\"\" class=\"botao-preenchimento botao-filtro mat-flat-button mat-button-base mat-primary\" color=\"primary\" mat-flat-button=\"\">...</button> is not clickable at point (214, 131). Other element would receive the click: <div _ngcontent-css-c44=\"\" class=\"container-visualizar\" fxlayoutalign=\"center center\" style=\"place-content: center; align-items: center; flex-direction: row; box-sizing: border-box; display: flex;\">...</div>\n  (Session info: chrome=110.0.5481.178)\nStacktrace:\nBacktrace:\n\t(No symbol) [0x00E437D3]\n\t(No symbol) [0x00DD8B81]\n\t(No symbol) [0x00CDB36D]\n\t(No symbol) [0x00D14E3B]\n\t(No symbol) [0x00D126DB]\n\t(No symbol) [0x00D0FD0B]\n\t(No symbol) [0x00D0E4D8]\n\t(No symbol) [0x00D03253]\n\t(No symbol) [0x00D2B41C]\n\t(No symbol) [0x00D02B96]\n\t(No symbol) [0x00D2B774]\n\t(No symbol) [0x00D41215]\n\t(No symbol) [0x00D2B216]\n\t(No symbol) [0x00D00D97]\n\t(No symbol) [0x00D0253D]\n\tGetHandleVerifier [0x010BABF2+2510930]\n\tGetHandleVerifier [0x010E8EC1+2700065]\n\tGetHandleVerifier [0x010EC86C+2714828]\n\tGetHandleVerifier [0x00EF3480+645344]\n\t(No symbol) [0x00DE0FD2]\n\t(No symbol) [0x00DE6C68]\n\t(No symbol) [0x00DE6D4B]\n\t(No symbol) [0x00DF0D6B]\n\tBaseThreadInitThunk [0x76987D69+25]\n\tRtlInitializeExceptionChain [0x7714BB9B+107]\n\tRtlClearBits [0x7714BB1F+191]\n"
     ]
    }
   ],
   "source": [
    "import pyautogui as py\n",
    "import time\n",
    "\n",
    "for linha in tabela.index:\n",
    "    pesquisar = nav.find_element(By.XPATH, '//*[@id=\"mat-input-1\"]')\n",
    "    pesquisar.clear()\n",
    "    pesquisar.send_keys(tabela.loc[linha, 'CODPROFABR'])\n",
    "\n",
    "    time.sleep(3)\n",
    "\n",
    "    buscar = nav.find_element(By.XPATH, '//*[@id=\"coluna-principal\"]/div/div[1]/backoffice-super-busca-v2/div/div[3]/div/div[2]/button')\n",
    "    buscar.click()\n",
    "\n",
    "    time.sleep(3)\n",
    "\n",
    "    vizualisar = nav.find_element(By.XPATH, '//*[@id=\"exibicao-cards\"]/backoffice-visualizacao-cards-v2/div/div/div[1]/backoffice-card-catalogo/div/div[2]/button')\n",
    "    vizualisar.click()\n",
    "\n",
    "    time.sleep(3)\n",
    "\n",
    "    py.press('esc')\n"
   ]
  },
  {
   "cell_type": "code",
   "execution_count": 21,
   "metadata": {},
   "outputs": [],
   "source": [
    "\n",
    "\n",
    "\n"
   ]
  }
 ],
 "metadata": {
  "kernelspec": {
   "display_name": "Python 3",
   "language": "python",
   "name": "python3"
  },
  "language_info": {
   "codemirror_mode": {
    "name": "ipython",
    "version": 3
   },
   "file_extension": ".py",
   "mimetype": "text/x-python",
   "name": "python",
   "nbconvert_exporter": "python",
   "pygments_lexer": "ipython3",
   "version": "3.11.1"
  },
  "orig_nbformat": 4,
  "vscode": {
   "interpreter": {
    "hash": "a70f64394a7e46cb0808266477ea262abb1d3d0c771e54d2edf917a6acfd2f5a"
   }
  }
 },
 "nbformat": 4,
 "nbformat_minor": 2
}
