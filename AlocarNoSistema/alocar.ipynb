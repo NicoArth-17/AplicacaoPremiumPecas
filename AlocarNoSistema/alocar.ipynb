{
 "cells": [
  {
   "cell_type": "code",
   "execution_count": 2,
   "metadata": {},
   "outputs": [
    {
     "name": "stdout",
     "output_type": "stream",
     "text": [
      "Qntd:  72 \n",
      " Cod Int: ['45883', '13351', '2428', '12495', '46006', '9555', '45677', '4707', '41162', '39158', '35767', '5070', '1163', '45136', '13023', '38159', '46598', '47110', '12572', '11087', '46898', '47034', '47076', '47081', '5048', '8436', '40055', '31148', '45030', '2741', '2072', '44555', '39934', '47068', '45039', '41032', '46114', '8314', '1979', '41974', '46059', '8587', '46292', '12502', '4563', '12900', '1655', '40358', '38226', '1984', '13078', '46719', '10792', '47082', '43183', '45102', '13837', '8618', '13560', '46877', '22850', '16242', '46069', '46093', '36908', '45414', '37356', '11464', '2951', '6033', '6034', '45101']\n",
      "Qntd:  72 \n",
      " Cod Loc: ['05.05.N.01', '05.05.N.02', '05.05.N.03', '05.05.N.04', '05.05.N.05', '05.05.N.06', '05.06.N.01', '05.06.N.02', '05.06.N.03', '05.06.N.04', '05.06.N.05', '05.06.N.06', '05.07.N.01', '05.07.N.02', '05.07.N.03', '05.07.N.04', '05.07.N.05', '05.07.N.06', '05.08.N.01', '05.08.N.02', '05.08.N.03', '05.08.N.04', '05.08.N.05', '05.08.N.06', '05.09.N.01', '05.09.N.02', '05.09.N.03', '05.09.N.04', '05.09.N.05', '05.09.N.06', '05.10.N.01', '05.10.N.02', '05.10.N.03', '05.10.N.04', '05.10.N.05', '05.10.N.06', '05.11.N.01', '05.11.N.02', '05.11.N.03', '05.11.N.04', '05.11.N.05', '05.11.N.06', '05.12.N.01', '05.12.N.02', '05.12.N.03', '05.12.N.04', '05.12.N.05', '05.12.N.06', '17.01.N.01', '17.01.N.02', '17.01.N.03', '17.01.N.04', '17.01.N.05', '17.01.N.06', '17.02.N.01', '17.02.N.02', '17.02.N.03', '17.02.N.04', '17.02.N.05', '17.02.N.06', '17.03.N.01', '17.03.N.02', '17.03.N.03', '17.03.N.04', '17.03.N.05', '17.03.N.06', '17.04.N.01', '17.04.N.02', '17.04.N.03', '17.04.N.04', '17.04.N.05', '17.04.N.06']\n"
     ]
    }
   ],
   "source": [
    "import pandas as pd\n",
    "\n",
    "codigos = pd.read_excel(r'produto e local.xlsx')\n",
    "\n",
    "codProd = []\n",
    "codLoc = []\n",
    "\n",
    "for codP in codigos['Cod. Int.']:\n",
    "    codProd.append(str(codP))\n",
    "\n",
    "for codL in codigos['Cod. Loc.']:\n",
    "    codLoc.append(codL)\n",
    "\n",
    "print('Qntd: ', len(codProd), '\\n Cod Int:', codProd)\n",
    "print('Qntd: ', len(codLoc), '\\n Cod Loc:', codLoc)\n"
   ]
  },
  {
   "cell_type": "code",
   "execution_count": 13,
   "metadata": {},
   "outputs": [],
   "source": [
    "import pyautogui as py\n",
    "import time\n",
    "\n",
    "py.FAILSAFE = True\n",
    "# clicar no Symplex na barra de tarefa\n",
    "time.sleep(2)\n",
    "py.click(x=462, y=746)\n",
    "\n",
    "\n",
    "lista = codProd\n",
    "lista2 = codLoc\n",
    "\n",
    "# clicar em editar\n",
    "#     *começar loop* obs: colocar tempo de execuçao\n",
    "for i, cod in enumerate(lista):\n",
    "    # clicar em alterar cadastro\n",
    "    time.sleep(2)\n",
    "    py.click(x=824, y=155)\n",
    "    py.write(cod)\n",
    "    py.press(\"enter\")\n",
    "    time.sleep(2)\n",
    "    py.click(x=880, y=434, clicks=2)\n",
    "    time.sleep(2)\n",
    "    py.write(lista2[i])\n",
    "    time.sleep(2)\n",
    "\n",
    "    py.click(x=941, y=678)"
   ]
  }
 ],
 "metadata": {
  "kernelspec": {
   "display_name": "Python 3",
   "language": "python",
   "name": "python3"
  },
  "language_info": {
   "codemirror_mode": {
    "name": "ipython",
    "version": 3
   },
   "file_extension": ".py",
   "mimetype": "text/x-python",
   "name": "python",
   "nbconvert_exporter": "python",
   "pygments_lexer": "ipython3",
   "version": "3.11.1"
  },
  "orig_nbformat": 4
 },
 "nbformat": 4,
 "nbformat_minor": 2
}
