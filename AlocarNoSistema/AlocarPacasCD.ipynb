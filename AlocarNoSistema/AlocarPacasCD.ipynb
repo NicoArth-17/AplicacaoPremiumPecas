{
 "cells": [
  {
   "cell_type": "raw",
   "metadata": {
    "vscode": {
     "languageId": "raw"
    }
   },
   "source": [
    "1. Ler excel de peças do CD sem local na matriz (df1)\n",
    "2. Ler excel de locais vazios na matriz (df2)\n",
    "3. Separar a lista de locais vazios em outras listas\n",
    "    3.1. Locais pequenos\n",
    "    3.2. Locais médios\n",
    "    3.3. Locais grandes\n",
    "    3.4. Locais por andar da prateleira\n",
    "4. Automatizar alocação\n",
    "    4.1. Entrar no symplex\n",
    "    4.2. Acessar a aleteração de produto\n",
    "    4.3. Digitar codigo interno do df1\n",
    "    4.4. Inserir locação do df2\n",
    "    4.5. Confirmar alteração\n",
    "5. Automatizar remoção de local das peças zeradas\n",
    "    4.1. Entrar no symplex\n",
    "    4.2. Acessar a aleteração de produto\n",
    "    4.3. Digitar codigo interno do df2\n",
    "    4.4. Apagar locação\n",
    "    4.5. Confirmar alteração\n",
    "\n",
    "\n",
    "Desenvolver:\n",
    "    Modo prático para separar no df1 as peças pequenas, médias e grandes"
   ]
  }
 ],
 "metadata": {
  "language_info": {
   "name": "python"
  }
 },
 "nbformat": 4,
 "nbformat_minor": 2
}
