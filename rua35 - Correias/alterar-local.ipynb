{
 "cells": [
  {
   "cell_type": "code",
   "execution_count": 45,
   "metadata": {},
   "outputs": [
    {
     "data": {
      "text/plain": [
       "0     35.03.B.01\n",
       "1     35.03.B.02\n",
       "2     35.03.B.03\n",
       "3     35.03.B.04\n",
       "4     35.03.B.05\n",
       "5     35.03.B.06\n",
       "6     35.03.B.07\n",
       "7     35.03.B.08\n",
       "8     35.03.B.09\n",
       "9     35.03.B.10\n",
       "10    35.03.B.11\n",
       "11    35.03.B.12\n",
       "12    35.03.B.13\n",
       "13    35.03.B.14\n",
       "14    35.03.B.15\n",
       "15    35.03.B.16\n",
       "16    35.03.B.17\n",
       "17    35.03.B.18\n",
       "18    35.03.B.19\n",
       "19    35.03.B.20\n",
       "20    35.03.B.21\n",
       "21    35.03.B.22\n",
       "22    35.03.B.23\n",
       "23    35.03.B.24\n",
       "24    35.03.B.25\n",
       "25    35.03.B.26\n",
       "26    35.03.B.27\n",
       "27    35.03.B.28\n",
       "28    35.03.B.29\n",
       "29    35.03.B.30\n",
       "30    35.03.B.31\n",
       "Name: B, dtype: object"
      ]
     },
     "metadata": {},
     "output_type": "display_data"
    },
    {
     "name": "stdout",
     "output_type": "stream",
     "text": [
      "['41389', '40114', '2997', '44598', '8957', '9297', '6744', '8288', '2641', '7177', '6378', '3224', '12062', '41762', '41388', '5774', '15945', '3579', '36413', '41676', '35789', '16039', '7100', '4300', '21948', '12924', '10160', '3840', '4301', '41538']\n",
      "30\n",
      "['05.03.I.01', '05.03.I.02', '05.03.I.03', '05.03.I.04', '05.03.I.05', '05.03.I.06', '05.03.J.01', '05.03.J.02', '05.03.J.03', '05.03.J.04', '05.03.J.05', '05.03.J.06', '05.03.K.01', '05.03.K.02', '05.03.K.03', '05.03.K.04', '05.03.K.05', '05.03.K.06', '05.03.L.01', '05.03.L.02', '05.03.L.03', '05.03.L.04', '05.03.L.05', '05.03.L.06', '05.03.M.01', '05.03.M.02', '05.03.M.03', '05.03.M.04', '05.03.M.05', '05.03.M.06']\n",
      "30\n",
      "['35.03.B.01', '35.03.B.02', '35.03.B.03', '35.03.B.04', '35.03.B.05', '35.03.B.06', '35.03.B.07', '35.03.B.08', '35.03.B.09', '35.03.B.10', '35.03.B.11', '35.03.B.12', '35.03.B.13', '35.03.B.14', '35.03.B.15', '35.03.B.16', '35.03.B.17', '35.03.B.18', '35.03.B.19', '35.03.B.20', '35.03.B.21', '35.03.B.22', '35.03.B.23', '35.03.B.24', '35.03.B.25', '35.03.B.26', '35.03.B.27', '35.03.B.28', '35.03.B.29', '35.03.B.30', '35.03.B.31']\n",
      "31\n"
     ]
    }
   ],
   "source": [
    "import pandas as pd\n",
    "import tabula as tb\n",
    "\n",
    "df_local_novo = pd.read_excel(r'rua35-03.xlsx')\n",
    "df_local_antigo = tb.read_pdf(r'Inventário de Estoque - correias (05-03).PDF', pages='all')\n",
    "\n",
    "lista_codProduto = []\n",
    "lista_codLocal = []\n",
    "\n",
    "lista_codLocal_Antigo = []\n",
    "\n",
    "for tabelas in df_local_antigo:\n",
    "    for codProduto in tabelas['Cód.Int. Ref.Fabr.']:\n",
    "        separar_codP = codProduto.split()\n",
    "        lista_codProduto.append(separar_codP[0])\n",
    "    for codLocal_teste in tabelas['UN Local']:\n",
    "        codLocal_teste = codLocal_teste.replace('PC ','')\n",
    "        codLocal_teste = codLocal_teste.replace('JG ','')\n",
    "        lista_codLocal_Antigo.append(codLocal_teste)\n",
    "\n",
    "localB = df_local_novo['B']\n",
    "localB = localB.dropna()\n",
    "\n",
    "# localC = df_local_novo['C']\n",
    "# localC = localC.dropna()\n",
    "\n",
    "for codLocal in localB:\n",
    "    lista_codLocal.append(codLocal)\n",
    "\n",
    "display(localB)\n",
    "print(lista_codProduto)\n",
    "print(len(lista_codProduto))\n",
    "print(lista_codLocal_Antigo)\n",
    "print(len(lista_codLocal_Antigo))\n",
    "print(lista_codLocal)\n",
    "print(len(lista_codLocal))\n"
   ]
  },
  {
   "cell_type": "code",
   "execution_count": 2,
   "metadata": {},
   "outputs": [],
   "source": [
    "# encontrar itens repetidos nas listas\n",
    "\n",
    "from collections import defaultdict\n",
    "\n",
    "keys = defaultdict(list)\n",
    "\n",
    "# Percorre todos os elementos da lista:\n",
    "for key, value in enumerate(lista_codLocal):\n",
    "\n",
    "    # Adiciona o índice do valor na lista de índices:\n",
    "    keys[value].append(key)\n",
    "\n",
    "# Exibe o resultado:\n",
    "for value in keys:\n",
    "    if len(keys[value]) > 1:\n",
    "        print(value, keys[value])"
   ]
  },
  {
   "cell_type": "code",
   "execution_count": 46,
   "metadata": {},
   "outputs": [],
   "source": [
    "# PASSO 3 => Automatizar a pesquisa dos códigos no Symplex / Automatizar a alterção dos códigos de local\n",
    "\n",
    "#     IDEIA DE PROCESSO\n",
    "import pyautogui as py\n",
    "import time\n",
    "\n",
    "py.FAILSAFE = True\n",
    "# clicar no Symplex na barra de tarefa\n",
    "time.sleep(2)\n",
    "py.click(x=415, y=746)\n",
    "\n",
    "\n",
    "lista = lista_codProduto\n",
    "lista2 = lista_codLocal[1:]\n",
    "\n",
    "# clicar em editar\n",
    "#     *começar loop* obs: colocar tempo de execuçao\n",
    "for i, cod in enumerate(lista):\n",
    "    # clicar em alterar cadastro\n",
    "    time.sleep(2)\n",
    "    py.click(x=824, y=155)\n",
    "    py.write(cod)\n",
    "    py.press(\"enter\")\n",
    "    time.sleep(2)\n",
    "    py.click(x=880, y=434, clicks=2)\n",
    "    py.write(lista2[i])\n",
    "    time.sleep(2)\n",
    "\n",
    "    py.click(x=964, y=676)\n",
    "    time.sleep(2)\n",
    "\n",
    "#     clicar na busca\n",
    "#     escrever codigo produto\n",
    "#     pressionar enter\n",
    "#     selecionar codigo local atual\n",
    "#     escrever codigo local novo\n",
    "#     tratar janela de alerta com enter\n",
    "#     clicar em salvar\n",
    "#     *fim do loop*"
   ]
  },
  {
   "cell_type": "code",
   "execution_count": 44,
   "metadata": {},
   "outputs": [
    {
     "name": "stdout",
     "output_type": "stream",
     "text": [
      "cod-Interno:  38105\n",
      "local-Novo:  35.03.B.01\n",
      "local-Antigo:  05.02.M.06\n"
     ]
    }
   ],
   "source": [
    "for i, cod in enumerate(lista_codLocal):\n",
    "    if '35.03.A.42' in cod:\n",
    "        print(i)\n",
    "\n",
    "# for i, cod in enumerate(lista_codProduto):\n",
    "#     if '3160' in cod:\n",
    "#         print(i)\n",
    "\n",
    "# for i, cod in enumerate(lista_codLocal_Antigo):\n",
    "#     if '05.01.H.06' in cod:\n",
    "#         print(i)\n",
    "\n",
    "\n",
    "print('cod-Interno: ', lista_codProduto[3])\n",
    "print('local-Novo: ', lista_codLocal[0])\n",
    "print('local-Antigo: ', lista_codLocal_Antigo[3])"
   ]
  },
  {
   "cell_type": "code",
   "execution_count": 101,
   "metadata": {},
   "outputs": [
    {
     "name": "stdout",
     "output_type": "stream",
     "text": [
      "Point(x=1070, y=681)\n"
     ]
    }
   ],
   "source": [
    "import pyautogui as py\n",
    "import time\n",
    "\n",
    "time.sleep(5)\n",
    "print(py.position())\n"
   ]
  }
 ],
 "metadata": {
  "kernelspec": {
   "display_name": "Python 3",
   "language": "python",
   "name": "python3"
  },
  "language_info": {
   "codemirror_mode": {
    "name": "ipython",
    "version": 3
   },
   "file_extension": ".py",
   "mimetype": "text/x-python",
   "name": "python",
   "nbconvert_exporter": "python",
   "pygments_lexer": "ipython3",
   "version": "3.11.1"
  },
  "orig_nbformat": 4
 },
 "nbformat": 4,
 "nbformat_minor": 2
}
